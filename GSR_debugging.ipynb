{
 "cells": [
  {
   "cell_type": "code",
   "execution_count": null,
   "metadata": {},
   "outputs": [],
   "source": [
    "import serial\n",
    "import struct\n",
    "import datetime"
   ]
  },
  {
   "cell_type": "code",
   "execution_count": null,
   "metadata": {},
   "outputs": [],
   "source": [
    "GET_SAMPLING_RATE_COMMAND = 0x03\n",
    "SAMPLING_RATE_RESPONSE = 0x04\n",
    "ACK_COMMAND_PROCESSED = 0xFF\n",
    "STOP_STREAMING_COMMAND = 0x20\n",
    "START_STREAMING_COMMAND = 0x07"
   ]
  },
  {
   "cell_type": "code",
   "execution_count": null,
   "metadata": {},
   "outputs": [],
   "source": [
    "# For every packet that the Shimmer3 receives, it sends an acknowledgement message\n",
    "# (ACK_COMMAND_PROCESSED) back to the host, to acknowledge receipt of the command.\n",
    "def wait_for_ack():\n",
    "    \"\"\"Wait for acknowledgement bit from device.\n",
    "\n",
    "    Keyword arguments:\n",
    "    ser -- serial port\n",
    "    \"\"\"\n",
    "    ddata = \"\"\n",
    "    ack = struct.pack('B', ACK_COMMAND_PROCESSED) # pack the given Python values according to the given format. 'B' means unsigned byte, the value passed to struct.pack() should be interpreted as an unsigned byte (8bits)\n",
    "    # it packs the hexadeicmal value '0xff' into an unsigned btyes.\n",
    "    while ddata != ack:\n",
    "        ddata = ser.read(1)\n",
    "        print((\"received [%s]\" % struct.unpack('B', ddata)))\n",
    "        return"
   ]
  },
  {
   "cell_type": "code",
   "execution_count": null,
   "metadata": {},
   "outputs": [],
   "source": [
    "def accel_calc(data):\n",
    "    \"\"\"Calculate m/s^2 values of accelerometer from raw output.\n",
    "\n",
    "    Keyword arguments:\n",
    "    data -- raw data from device\n",
    "    \"\"\"\n",
    "    value = (data - 2047) * float(1) / float(830) * float(9.80665)\n",
    "    return value\n",
    "\n",
    "def gyro_calc(data):\n",
    "    \"\"\"Calculate deg/s values of gyroscope from raw output.\n",
    "\n",
    "    Keyword arguments:\n",
    "    data -- raw data from device\n",
    "    \"\"\"\n",
    "    value = data / float(65.5)\n",
    "    return value\n",
    "\n",
    "def mag_calc_xy(data):\n",
    "    \"\"\"Calculate gauss values of magnometer from raw output, X and Y.\n",
    "\n",
    "    Keyword arguments:\n",
    "    data -- raw data from device\n",
    "    \"\"\"\n",
    "    value = data / float(1100)\n",
    "    return value\n",
    "\n",
    "def mag_calc_z(data):\n",
    "    \"\"\"Calculate gauss values of magnometer from raw output, Z.\n",
    "\n",
    "    Keyword arguments:\n",
    "    data -- raw data from device\n",
    "    \"\"\"\n",
    "    value = data / float(980)\n",
    "    return value\n",
    "\n",
    "def gsr_calc(data, Range):\n",
    "    \"\"\"Calculate gsr value.\n",
    "\n",
    "    Keyword arguments:\n",
    "    data -- raw data from device\n",
    "    \"\"\"\n",
    "    if (Range == 0):\n",
    "        p1 = 0.0363\n",
    "        p2 = -24.8617\n",
    "    if (Range == 1):\n",
    "        p1 = 0.0051\n",
    "        p2 = -3.8357\n",
    "    if (Range == 2):\n",
    "        p1 = 0.0015\n",
    "        p2 = -1.0067\n",
    "    if (Range == 3):\n",
    "        p1 = 4.4513e-04\n",
    "        p2 = -0.3193\n",
    "    value = (float(p1) * data) + float(p2)\n",
    "    return value\n",
    "\n",
    "\n",
    "def ppg_calc(data):\n",
    "    \"\"\"PLACEHOLDER.\"\"\"\n",
    "    value = data * float(0.00024414062)\n",
    "    return value"
   ]
  },
  {
   "cell_type": "code",
   "execution_count": null,
   "metadata": {},
   "outputs": [],
   "source": [
    "# Open Serial Port\n",
    "ser = serial.Serial('/dev/rfcomm3', 115200)\n",
    "ser.flushInput()"
   ]
  },
  {
   "cell_type": "code",
   "execution_count": null,
   "metadata": {},
   "outputs": [],
   "source": [
    "# Stop Streaming\n",
    "ser.write(struct.pack('B', STOP_STREAMING_COMMAND))\n",
    "wait_for_ack()"
   ]
  },
  {
   "cell_type": "code",
   "execution_count": null,
   "metadata": {},
   "outputs": [],
   "source": [
    "# Get Sampling Rate\n",
    "# when the Shimmer3 receives the GET_SAMPLING_RATE_COMMAND, it must send the\n",
    "# current value of the sampling rate back to the host; \n",
    "# the response packet will contain two bytes: the first byte will be the SAMPLING_RATE_REPONSE identifier\n",
    "# and the second byte will be the sampling\n",
    "# rate value. \n",
    "ser.write(struct.pack('B', GET_SAMPLING_RATE_COMMAND))\n",
    "wait_for_ack()\n",
    "ddata = ser.read(3)\n",
    "ddata = struct.unpack('<BH', ddata)\n",
    "print('Sampling Rate is: %f' % (32768 / ddata[1]))"
   ]
  },
  {
   "cell_type": "code",
   "execution_count": null,
   "metadata": {},
   "outputs": [],
   "source": [
    "# Start Streaming\n",
    "ser.write(struct.pack('B', 0x07))\n",
    "wait_for_ack()\n",
    "numbytes = 0\n",
    "ddata = b''\n",
    "framesize = 1 + 3 + 2*3 + 2*3 + 2*3 + 2 + 2\n",
    "\n",
    "testdata = []\n",
    "while True:\n",
    "    while numbytes < framesize:\n",
    "        ddata += ser.read(framesize)\n",
    "        numbytes = len(ddata)\n",
    "\n",
    "    data = ddata[0:framesize]\n",
    "    numbytes = 0\n",
    "    ddata = b''\n",
    "\n",
    "    (packettype) = struct.unpack('B', data[0:1]) #[0]\n",
    "\n",
    "    ## Linear Acceleration\n",
    "    (lin_acc_raw_x, lin_acc_raw_y, lin_acc_raw_z) = struct.unpack('HHH', data[4:10])\n",
    "    lin_acc_cal_x = accel_calc(lin_acc_raw_x)\n",
    "    lin_acc_cal_y = accel_calc(lin_acc_raw_y)\n",
    "    lin_acc_cal_z = accel_calc(lin_acc_raw_z)\n",
    "\n",
    "    ## Extract PPG and GSR\n",
    "    (PPG_raw, GSR_raw) = struct.unpack('HH', data[10:14])\n",
    "\n",
    "    ## Calculate PPG\n",
    "    ppg_cal = ppg_calc(PPG_raw)\n",
    "\n",
    "    ## Calculate GSR\n",
    "    # GSR range\n",
    "    Range = ((GSR_raw >> 14) & 0xff)\n",
    "    gsr_cal = gsr_calc(GSR_raw, Range)\n",
    "\n",
    "    ## Angular Velocity\n",
    "    (ang_vel_raw_x, ang_vel_raw_y, ang_vel_raw_z) = struct.unpack('>hhh', data[14:20])\n",
    "    ang_vel_cal_x = gyro_calc(ang_vel_raw_x)\n",
    "    ang_vel_cal_y = gyro_calc(ang_vel_raw_y)\n",
    "    ang_vel_cal_z = gyro_calc(ang_vel_raw_z)\n",
    "\n",
    "    ## Magnetic Field\n",
    "    (mag_fld_raw_x, mag_fld_raw_z, mag_fld_raw_y) = struct.unpack('>hhh', data[20:26])\n",
    "    mag_fld_cal_x = mag_calc_xy(mag_fld_raw_x)\n",
    "    mag_fld_cal_y = mag_calc_xy(mag_fld_raw_y)\n",
    "    mag_fld_cal_z = mag_calc_z(mag_fld_raw_z)\n",
    "\n",
    "    testdata.append(gsr_cal)\n",
    "    print(gsr_cal)\n",
    "    "
   ]
  },
  {
   "cell_type": "code",
   "execution_count": 10,
   "metadata": {},
   "outputs": [
    {
     "data": {
      "text/plain": [
       "[<matplotlib.lines.Line2D at 0x7a77e8c97880>]"
      ]
     },
     "execution_count": 10,
     "metadata": {},
     "output_type": "execute_result"
    },
    {
     "data": {
      "image/png": "[encoded data removed]",
      "text/plain": [
       "<Figure size 640x480 with 1 Axes>"
      ]
     },
     "metadata": {},
     "output_type": "display_data"
    }
   ],
   "source": [
    "import matplotlib.pyplot as plt\n",
    "import numpy as np\n",
    "testdata = np.array(testdata)\n",
    "\n",
    "plt.plot(testdata[200:])"
   ]
  },
  {
   "cell_type": "code",
   "execution_count": null,
   "metadata": {},
   "outputs": [],
   "source": []
  }
 ],
 "metadata": {
  "kernelspec": {
   "display_name": "Python 3",
   "language": "python",
   "name": "python3"
  },
  "language_info": {
   "codemirror_mode": {
    "name": "ipython",
    "version": 3
   },
   "file_extension": ".py",
   "mimetype": "text/x-python",
   "name": "python",
   "nbconvert_exporter": "python",
   "pygments_lexer": "ipython3",
   "version": "3.10.12"
  }
 },
 "nbformat": 4,
 "nbformat_minor": 2
}
