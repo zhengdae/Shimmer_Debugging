{
 "cells": [
  {
   "cell_type": "code",
   "execution_count": 1,
   "metadata": {},
   "outputs": [],
   "source": [
    "import serial\n",
    "import struct\n",
    "import datetime"
   ]
  },
  {
   "cell_type": "code",
   "execution_count": 2,
   "metadata": {},
   "outputs": [],
   "source": [
    "GET_SAMPLING_RATE_COMMAND = 0x03\n",
    "SAMPLING_RATE_RESPONSE = 0x04\n",
    "ACK_COMMAND_PROCESSED = 0xFF\n",
    "STOP_STREAMING_COMMAND = 0x20\n",
    "START_STREAMING_COMMAND = 0x07"
   ]
  },
  {
   "cell_type": "code",
   "execution_count": 3,
   "metadata": {},
   "outputs": [],
   "source": [
    "# For every packet that the Shimmer3 receives, it sends an acknowledgement message\n",
    "# (ACK_COMMAND_PROCESSED) back to the host, to acknowledge receipt of the command.\n",
    "def wait_for_ack():\n",
    "    \"\"\"Wait for acknowledgement bit from device.\n",
    "\n",
    "    Keyword arguments:\n",
    "    ser -- serial port\n",
    "    \"\"\"\n",
    "    ddata = \"\"\n",
    "    ack = struct.pack('B', ACK_COMMAND_PROCESSED) # pack the given Python values according to the given format. 'B' means unsigned byte, the value passed to struct.pack() should be interpreted as an unsigned byte (8bits)\n",
    "    # it packs the hexadeicmal value '0xff' into an unsigned btyes.\n",
    "    while ddata != ack:\n",
    "        ddata = ser.read(1)\n",
    "        print((\"received [%s]\" % struct.unpack('B', ddata)))\n",
    "        return"
   ]
  },
  {
   "cell_type": "code",
   "execution_count": 4,
   "metadata": {},
   "outputs": [],
   "source": [
    "def accel_calc(data):\n",
    "    \"\"\"Calculate m/s^2 values of accelerometer from raw output.\n",
    "\n",
    "    Keyword arguments:\n",
    "    data -- raw data from device\n",
    "    \"\"\"\n",
    "    value = (data - 2047) * float(1) / float(830) * float(9.80665)\n",
    "    return value\n",
    "\n",
    "def gyro_calc(data):\n",
    "    \"\"\"Calculate deg/s values of gyroscope from raw output.\n",
    "\n",
    "    Keyword arguments:\n",
    "    data -- raw data from device\n",
    "    \"\"\"\n",
    "    value = data / float(65.5)\n",
    "    return value\n",
    "\n",
    "def mag_calc_xy(data):\n",
    "    \"\"\"Calculate gauss values of magnometer from raw output, X and Y.\n",
    "\n",
    "    Keyword arguments:\n",
    "    data -- raw data from device\n",
    "    \"\"\"\n",
    "    value = data / float(1100)\n",
    "    return value\n",
    "\n",
    "def mag_calc_z(data):\n",
    "    \"\"\"Calculate gauss values of magnometer from raw output, Z.\n",
    "\n",
    "    Keyword arguments:\n",
    "    data -- raw data from device\n",
    "    \"\"\"\n",
    "    value = data / float(980)\n",
    "    return value\n",
    "\n",
    "def emg_ch1_calc(data):\n",
    "    \"\"\"Calculate mV values of EMG from raw output.\n",
    "\n",
    "    Keyword arguments:\n",
    "    data -- raw data from device\n",
    "    \"\"\"\n",
    "    value = (float(data) + float(15181.104693140795)) * float(0.00002404054)\n",
    "    return value\n",
    "\n",
    "def emg_ch2_calc(data):\n",
    "    \"\"\"Calculate mV values of EMG from raw output.\n",
    "\n",
    "    Keyword arguments:\n",
    "    data -- raw data from device\n",
    "    \"\"\"\n",
    "    value = (float(data) - float(13640.723039215687)) * float(0.00002404054)\n",
    "    return value\n",
    "\n"
   ]
  },
  {
   "cell_type": "code",
   "execution_count": 5,
   "metadata": {},
   "outputs": [],
   "source": [
    "# Open Serial Port\n",
    "ser = serial.Serial('/dev/rfcomm0', 460800)\n",
    "ser.flushInput()"
   ]
  },
  {
   "cell_type": "code",
   "execution_count": 6,
   "metadata": {},
   "outputs": [
    {
     "name": "stdout",
     "output_type": "stream",
     "text": [
      "received [255]\n"
     ]
    }
   ],
   "source": [
    "# Stop Streaming\n",
    "ser.write(struct.pack('B', STOP_STREAMING_COMMAND))\n",
    "wait_for_ack()"
   ]
  },
  {
   "cell_type": "code",
   "execution_count": 7,
   "metadata": {},
   "outputs": [
    {
     "name": "stdout",
     "output_type": "stream",
     "text": [
      "received [255]\n",
      "Sampling Rate is: 60.124771\n"
     ]
    }
   ],
   "source": [
    "# Get Sampling Rate\n",
    "# when the Shimmer3 receives the GET_SAMPLING_RATE_COMMAND, it must send the\n",
    "# current value of the sampling rate back to the host; \n",
    "# the response packet will contain two bytes: the first byte will be the SAMPLING_RATE_REPONSE identifier\n",
    "# and the second byte will be the sampling\n",
    "# rate value. \n",
    "ser.write(struct.pack('B', GET_SAMPLING_RATE_COMMAND))\n",
    "wait_for_ack()\n",
    "ddata = ser.read(3)\n",
    "ddata = struct.unpack('<BH', ddata)\n",
    "print('Sampling Rate is: %f' % (32768 / ddata[1]))"
   ]
  },
  {
   "cell_type": "code",
   "execution_count": 8,
   "metadata": {},
   "outputs": [
    {
     "name": "stdout",
     "output_type": "stream",
     "text": [
      "received [255]\n"
     ]
    },
    {
     "ename": "KeyboardInterrupt",
     "evalue": "",
     "output_type": "error",
     "traceback": [
      "\u001b[0;31m---------------------------------------------------------------------------\u001b[0m",
      "\u001b[0;31mKeyboardInterrupt\u001b[0m                         Traceback (most recent call last)",
      "Cell \u001b[0;32mIn[8], line 11\u001b[0m\n\u001b[1;32m      9\u001b[0m \u001b[38;5;28;01mwhile\u001b[39;00m \u001b[38;5;28;01mTrue\u001b[39;00m:\n\u001b[1;32m     10\u001b[0m     \u001b[38;5;28;01mwhile\u001b[39;00m numbytes \u001b[38;5;241m<\u001b[39m framesize:\n\u001b[0;32m---> 11\u001b[0m         ddata \u001b[38;5;241m+\u001b[39m\u001b[38;5;241m=\u001b[39m \u001b[43mser\u001b[49m\u001b[38;5;241;43m.\u001b[39;49m\u001b[43mread\u001b[49m\u001b[43m(\u001b[49m\u001b[43mframesize\u001b[49m\u001b[43m)\u001b[49m\n\u001b[1;32m     12\u001b[0m         numbytes \u001b[38;5;241m=\u001b[39m \u001b[38;5;28mlen\u001b[39m(ddata)\n\u001b[1;32m     14\u001b[0m     data \u001b[38;5;241m=\u001b[39m ddata[\u001b[38;5;241m0\u001b[39m:framesize]\n",
      "File \u001b[0;32m~/.local/lib/python3.10/site-packages/serial/serialposix.py:565\u001b[0m, in \u001b[0;36mSerial.read\u001b[0;34m(self, size)\u001b[0m\n\u001b[1;32m    563\u001b[0m \u001b[38;5;28;01mwhile\u001b[39;00m \u001b[38;5;28mlen\u001b[39m(read) \u001b[38;5;241m<\u001b[39m size:\n\u001b[1;32m    564\u001b[0m     \u001b[38;5;28;01mtry\u001b[39;00m:\n\u001b[0;32m--> 565\u001b[0m         ready, _, _ \u001b[38;5;241m=\u001b[39m \u001b[43mselect\u001b[49m\u001b[38;5;241;43m.\u001b[39;49m\u001b[43mselect\u001b[49m\u001b[43m(\u001b[49m\u001b[43m[\u001b[49m\u001b[38;5;28;43mself\u001b[39;49m\u001b[38;5;241;43m.\u001b[39;49m\u001b[43mfd\u001b[49m\u001b[43m,\u001b[49m\u001b[43m \u001b[49m\u001b[38;5;28;43mself\u001b[39;49m\u001b[38;5;241;43m.\u001b[39;49m\u001b[43mpipe_abort_read_r\u001b[49m\u001b[43m]\u001b[49m\u001b[43m,\u001b[49m\u001b[43m \u001b[49m\u001b[43m[\u001b[49m\u001b[43m]\u001b[49m\u001b[43m,\u001b[49m\u001b[43m \u001b[49m\u001b[43m[\u001b[49m\u001b[43m]\u001b[49m\u001b[43m,\u001b[49m\u001b[43m \u001b[49m\u001b[43mtimeout\u001b[49m\u001b[38;5;241;43m.\u001b[39;49m\u001b[43mtime_left\u001b[49m\u001b[43m(\u001b[49m\u001b[43m)\u001b[49m\u001b[43m)\u001b[49m\n\u001b[1;32m    566\u001b[0m         \u001b[38;5;28;01mif\u001b[39;00m \u001b[38;5;28mself\u001b[39m\u001b[38;5;241m.\u001b[39mpipe_abort_read_r \u001b[38;5;129;01min\u001b[39;00m ready:\n\u001b[1;32m    567\u001b[0m             os\u001b[38;5;241m.\u001b[39mread(\u001b[38;5;28mself\u001b[39m\u001b[38;5;241m.\u001b[39mpipe_abort_read_r, \u001b[38;5;241m1000\u001b[39m)\n",
      "\u001b[0;31mKeyboardInterrupt\u001b[0m: "
     ]
    }
   ],
   "source": [
    "# Start Streaming\n",
    "ser.write(struct.pack('B', 0x07))\n",
    "wait_for_ack()\n",
    "numbytes = 0\n",
    "ddata = b''\n",
    "framesize = 1 + 3 + 2*3 + 2*3 + 2*3 + 7\n",
    "all_emg_ch1 = []\n",
    "all_emg_ch2 = []\n",
    "while True:\n",
    "    while numbytes < framesize:\n",
    "        ddata += ser.read(framesize)\n",
    "        numbytes = len(ddata)\n",
    "\n",
    "    data = ddata[0:framesize]\n",
    "    numbytes = 0\n",
    "    ddata = b''\n",
    "\n",
    "    (packettype) = struct.unpack('B', data[0:1]) #[0]\n",
    "\n",
    "    (lin_acc_raw_x, lin_acc_raw_y, lin_acc_raw_z) = struct.unpack('HHH', data[4:10])\n",
    "    lin_acc_cal_x = accel_calc(lin_acc_raw_x)\n",
    "    lin_acc_cal_y = accel_calc(lin_acc_raw_y)\n",
    "    lin_acc_cal_z = accel_calc(lin_acc_raw_z)\n",
    "    \n",
    "    (ang_vel_raw_x, ang_vel_raw_y, ang_vel_raw_z) = struct.unpack('>hhh', data[10:16])\n",
    "    ang_vel_cal_x = gyro_calc(ang_vel_raw_x)\n",
    "    ang_vel_cal_y = gyro_calc(ang_vel_raw_y)\n",
    "    ang_vel_cal_z = gyro_calc(ang_vel_raw_z)\n",
    "\n",
    "    (mag_fld_raw_x, mag_fld_raw_z, mag_fld_raw_y) = struct.unpack('>hhh', data[16:22])\n",
    "    mag_fld_cal_x = mag_calc_xy(mag_fld_raw_x)\n",
    "    mag_fld_cal_y = mag_calc_xy(mag_fld_raw_y)\n",
    "    mag_fld_cal_z = mag_calc_z(mag_fld_raw_z)\n",
    "\n",
    "    emg_ch1_raw = struct.unpack('>i', (data[23:26] + b'\\0'))[0] >> 8\n",
    "    emg_ch2_raw = struct.unpack('>i', (data[26:29] + b'\\0'))[0] >> 8\n",
    "\n",
    "    emg_ch1_cal = emg_ch1_calc(emg_ch1_raw)\n",
    "    emg_ch2_cal = emg_ch2_calc(emg_ch2_raw)  \n",
    "\n",
    "    all_emg_ch1.append(emg_ch1_cal)\n",
    "    all_emg_ch2.append(emg_ch2_cal)\n",
    "\n",
    "    "
   ]
  },
  {
   "cell_type": "code",
   "execution_count": 9,
   "metadata": {},
   "outputs": [
    {
     "data": {
      "text/plain": [
       "<matplotlib.legend.Legend at 0x7f1a80670e80>"
      ]
     },
     "execution_count": 9,
     "metadata": {},
     "output_type": "execute_result"
    },
    {
     "data": {
      "image/png": "[encoded data removed]",
      "text/plain": [
       "<Figure size 640x480 with 1 Axes>"
      ]
     },
     "metadata": {},
     "output_type": "display_data"
    }
   ],
   "source": [
    "import matplotlib.pyplot as plt\n",
    "import numpy as np\n",
    "\n",
    "all_emg_ch1 = np.array(all_emg_ch1)\n",
    "all_emg_ch2 = np.array(all_emg_ch2)\n",
    "\n",
    "plt.plot(all_emg_ch1, label='channel 1')\n",
    "plt.plot(all_emg_ch2, label='channel 2')\n",
    "plt.legend()"
   ]
  },
  {
   "cell_type": "code",
   "execution_count": null,
   "metadata": {},
   "outputs": [],
   "source": []
  }
 ],
 "metadata": {
  "kernelspec": {
   "display_name": "Python 3",
   "language": "python",
   "name": "python3"
  },
  "language_info": {
   "codemirror_mode": {
    "name": "ipython",
    "version": 3
   },
   "file_extension": ".py",
   "mimetype": "text/x-python",
   "name": "python",
   "nbconvert_exporter": "python",
   "pygments_lexer": "ipython3",
   "version": "3.10.12"
  }
 },
 "nbformat": 4,
 "nbformat_minor": 2
}
